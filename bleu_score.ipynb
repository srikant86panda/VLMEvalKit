{
 "cells": [
  {
   "cell_type": "code",
   "execution_count": 26,
   "metadata": {},
   "outputs": [
    {
     "name": "stdout",
     "output_type": "stream",
     "text": [
      "{'testlen': 162, 'reflen': 14, 'guess': [162, 161, 160, 159], 'correct': [17, 6, 3, 2]}\n",
      "ratio: 11.571428570602041\n",
      "[0.1049382716042905, 0.06253593399901687, 0.04185559477903111, 0.030990127009261147]\n",
      "{'testlen': 3, 'reflen': 3, 'guess': [3, 2, 1, 0], 'correct': [2, 1, 0, 0]}\n",
      "ratio: 0.999999999666667\n",
      "[0.6666666662222226, 0.5773502687566137, 6.933612736957944e-06, 4.272870060579654e-06]\n",
      "{'testlen': 165, 'reflen': 17, 'guess': [165, 163, 161, 159], 'correct': [19, 7, 3, 2]}\n",
      "ratio: 9.705882352370242\n",
      "[0.11515151515081727, 0.07032181092901439, 0.04516740679136258, 0.032811575603146084]\n"
     ]
    }
   ],
   "source": [
    "from pycocoevalcap.bleu.bleu import Bleu\n",
    "\n",
    "bleu_scorer = Bleu(n=4)\n",
    "gt1 = ['A pair of young men play a doubles game of tennis.', 'A couple of men standing on a tennis court holding racquets.', 'Two men that are playing a game of tennis. ', 'Two people playing doubles in tennis with one getting ready to hit the ball.', 'A pair of tennis players getting ready to hit a tennis ball.']\n",
    "pred1 = [\"The image depicts two male tennis players engaged in a match on an indoor court. The player in the foreground is wearing a gray t-shirt, black shorts, and white shoes with black accents. He is holding a tennis racket in his right hand and appears to be preparing to hit a tennis ball. His posture suggests he is in the middle of a serve or a forehand stroke.\\n\\nThe player in the background is wearing a gray t-shirt and black shorts, with a white headband. He is in a defensive stance, with his body leaning forward and his right arm extended, possibly in an attempt to block the incoming ball. His left hand is on his racket, ready to return the serve.\\n\\nThe court has a red surface, and the net is white. The background consists of a green curtain, likely part of the indoor sports facility's decor. The players are focused on the ball, indicating a competitive moment in the match.\"]\n",
    "gt2 = ['i love my india', 'i love jaga']\n",
    "pred2 = [\"i love krishna.\"]\n",
    "reference_captions = {'0': gt1}\n",
    "generated_captions = {'0': pred1}\n",
    "\n",
    "scores, detailed_scores = bleu_scorer.compute_score(reference_captions, generated_captions)\n",
    "print(scores)\n",
    "reference_captions = {'0': gt2}\n",
    "generated_captions = {'0': pred2}\n",
    "\n",
    "scores, detailed_scores = bleu_scorer.compute_score(reference_captions, generated_captions)\n",
    "print(scores)\n",
    "\n",
    "reference_captions = {'0': gt1, '1': gt2}\n",
    "generated_captions = {'0': pred1, '1': pred2}\n",
    "\n",
    "scores, detailed_scores = bleu_scorer.compute_score(reference_captions, generated_captions)\n",
    "print(scores)"
   ]
  },
  {
   "cell_type": "code",
   "execution_count": 25,
   "metadata": {},
   "outputs": [
    {
     "name": "stdout",
     "output_type": "stream",
     "text": [
      "[0.1049382716042905, 0.06253593399901687, 0.04185559477903111, 0.030990127009261147]\n"
     ]
    }
   ],
   "source": [
    "totalcomps = {'testlen': 162, 'reflen': 14, 'guess': [162, 161, 160, 159], 'correct': [17, 6, 3, 2]}\n",
    "small = 1e-9\n",
    "tiny = 1e-15\n",
    "bleus = []\n",
    "bleu = 1.\n",
    "for k in range(4):\n",
    "    bleu *= float(totalcomps['correct'][k] + tiny) \\\n",
    "            / (totalcomps['guess'][k] + small)\n",
    "    bleus.append(bleu ** (1./(k+1)))\n",
    "ratio = (totalcomps['testlen'] + tiny) / (totalcomps['reflen'] + small) ## N.B.: avoid zero division\n",
    "if ratio < 1:\n",
    "    for k in xrange(n):\n",
    "        bleus[k] *= math.exp(1 - 1/ratio)\n",
    "\n",
    "print(bleus)"
   ]
  }
 ],
 "metadata": {
  "kernelspec": {
   "display_name": "eval",
   "language": "python",
   "name": "python3"
  },
  "language_info": {
   "codemirror_mode": {
    "name": "ipython",
    "version": 3
   },
   "file_extension": ".py",
   "mimetype": "text/x-python",
   "name": "python",
   "nbconvert_exporter": "python",
   "pygments_lexer": "ipython3",
   "version": "3.12.7"
  }
 },
 "nbformat": 4,
 "nbformat_minor": 2
}
