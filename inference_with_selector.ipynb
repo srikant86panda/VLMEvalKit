{
 "cells": [
  {
   "cell_type": "code",
   "execution_count": 23,
   "metadata": {},
   "outputs": [
    {
     "name": "stdout",
     "output_type": "stream",
     "text": [
      "model_name: Phi-3.5-Vision,0.5398692810457516\n",
      "model_name: llava_hf_v1.5_7b,0.5032679738562091\n",
      "model_name: Idefics3-8B-Llama3,0.5673202614379085\n",
      "model_name: InternVL2-1B,0.5098039215686274\n"
     ]
    }
   ],
   "source": [
    "import os\n",
    "import re\n",
    "import glob\n",
    "import pandas as pd\n",
    "\n",
    "def get_group(filename):\n",
    "    pattern = r'grid_\\d+x\\d+'\n",
    "    match = re.search(pattern, filename)\n",
    "    if match:\n",
    "        extracted = match.group()\n",
    "    else:\n",
    "        extracted = 'orig'\n",
    "    return extracted\n",
    "\n",
    "def get_patch(filename):\n",
    "    pattern = r'row\\d+_col\\d+'\n",
    "    match = re.search(pattern, filename)\n",
    "    if match:\n",
    "        extracted = match.group()\n",
    "    else:\n",
    "        extracted = 'orig'\n",
    "    return extracted\n",
    "\n",
    "def get_group_patch(filename):\n",
    "    return f'{get_group(filename)}_{get_patch(filename)}'\n",
    "\n",
    "df = pd.read_csv('/home/srikapan/workspace/research/multiblock/VLMEvalKit/res_siglip.csv')\n",
    "top_scores = df.loc[df.groupby('index')['scores'].idxmax()].reset_index()\n",
    "top_scores.loc[:, 'group_patch'] = top_scores.file.apply(lambda x: get_group_patch(os.path.basename(x)))\n",
    "\n",
    "base_dir = '/home/srikapan/workspace/research/multiblock/VLMEvalKit/outputs'\n",
    "for model_name in ['Phi-3.5-Vision', 'llava_hf_v1.5_7b', 'Idefics3-8B-Llama3', 'InternVL2-1B']:\n",
    "    dataset_name = 'RealWorldQA'\n",
    "    file_paths = glob.glob(f'{base_dir}/{model_name}/{model_name}_{dataset_name}_*openai_result.xlsx')\n",
    "    group_patchs = {}\n",
    "    for i in file_paths:\n",
    "        group_patch = get_group_patch(os.path.basename(i))\n",
    "        group_patchs[group_patch] = pd.read_excel(i)\n",
    "\n",
    "    top_scores.loc[:, 'hit'] = top_scores[['index', 'group_patch']].apply(lambda x: group_patchs[x['group_patch']].loc[x['index'], 'hit'], axis=1)\n",
    "\n",
    "    print(f\"model_name: {model_name},{top_scores.loc[:, 'hit'].mean()}\")"
   ]
  },
  {
   "cell_type": "code",
   "execution_count": 1,
   "metadata": {},
   "outputs": [
    {
     "name": "stdout",
     "output_type": "stream",
     "text": [
      "model_name: Phi-3.5-Vision,0.538562091503268\n",
      "model_name: llava_hf_v1.5_7b,0.5372549019607843\n",
      "model_name: Idefics3-8B-Llama3,0.6287581699346405\n",
      "model_name: InternVL2-1B,0.4993464052287582\n"
     ]
    }
   ],
   "source": [
    "import os\n",
    "import re\n",
    "import glob\n",
    "import pandas as pd\n",
    "\n",
    "def get_group(filename):\n",
    "    pattern = r'grid_\\d+x\\d+'\n",
    "    match = re.search(pattern, filename)\n",
    "    if match:\n",
    "        extracted = match.group()\n",
    "    else:\n",
    "        extracted = 'orig'\n",
    "    return extracted\n",
    "\n",
    "def get_patch(filename):\n",
    "    pattern = r'row\\d+_col\\d+'\n",
    "    match = re.search(pattern, filename)\n",
    "    if match:\n",
    "        extracted = match.group()\n",
    "    else:\n",
    "        extracted = 'orig'\n",
    "    return extracted\n",
    "\n",
    "def get_group_patch(filename):\n",
    "    return f'{get_group(filename)}_{get_patch(filename)}'\n",
    "\n",
    "df = pd.read_csv('/home/srikapan/workspace/research/multiblock/VLMEvalKit/res_clip.csv')\n",
    "top_scores = df.loc[df.groupby('index')['scores'].idxmax()].reset_index()\n",
    "top_scores.loc[:, 'group_patch'] = top_scores.file.apply(lambda x: get_group_patch(os.path.basename(x)))\n",
    "\n",
    "base_dir = '/home/srikapan/workspace/research/multiblock/VLMEvalKit/outputs'\n",
    "for model_name in ['Phi-3.5-Vision', 'llava_hf_v1.5_7b', 'Idefics3-8B-Llama3', 'InternVL2-1B']:\n",
    "    dataset_name = 'RealWorldQA'\n",
    "    file_paths = glob.glob(f'{base_dir}/{model_name}/{model_name}_{dataset_name}_*openai_result.xlsx')\n",
    "    group_patchs = {}\n",
    "    for i in file_paths:\n",
    "        group_patch = get_group_patch(os.path.basename(i))\n",
    "        group_patchs[group_patch] = pd.read_excel(i)\n",
    "\n",
    "    top_scores.loc[:, 'hit'] = top_scores[['index', 'group_patch']].apply(lambda x: group_patchs[x['group_patch']].loc[x['index'], 'hit'], axis=1)\n",
    "\n",
    "    print(f\"model_name: {model_name},{top_scores.loc[:, 'hit'].mean()}\")"
   ]
  },
  {
   "cell_type": "code",
   "execution_count": 1,
   "metadata": {},
   "outputs": [
    {
     "name": "stdout",
     "output_type": "stream",
     "text": [
      "model_name: Phi-3.5-Vision,0.515032679738562\n",
      "model_name: llava_hf_v1.5_7b,0.47320261437908495\n",
      "model_name: Idefics3-8B-Llama3,0.5058823529411764\n",
      "model_name: InternVL2-1B,0.465359477124183\n"
     ]
    }
   ],
   "source": [
    "import os\n",
    "import re\n",
    "import glob\n",
    "import pandas as pd\n",
    "\n",
    "def get_group(filename):\n",
    "    pattern = r'grid_\\d+x\\d+'\n",
    "    match = re.search(pattern, filename)\n",
    "    if match:\n",
    "        extracted = match.group()\n",
    "    else:\n",
    "        extracted = 'orig'\n",
    "    return extracted\n",
    "\n",
    "def get_patch(filename):\n",
    "    pattern = r'row\\d+_col\\d+'\n",
    "    match = re.search(pattern, filename)\n",
    "    if match:\n",
    "        extracted = match.group()\n",
    "    else:\n",
    "        extracted = 'orig'\n",
    "    return extracted\n",
    "\n",
    "def get_group_patch(filename):\n",
    "    return f'{get_group(filename)}_{get_patch(filename)}'\n",
    "\n",
    "df = pd.read_csv('/home/srikapan/workspace/research/multiblock/VLMEvalKit/res_align.csv')\n",
    "top_scores = df.loc[df.groupby('index')['scores'].idxmax()].reset_index()\n",
    "top_scores.loc[:, 'group_patch'] = top_scores.file.apply(lambda x: get_group_patch(os.path.basename(x)))\n",
    "\n",
    "base_dir = '/home/srikapan/workspace/research/multiblock/VLMEvalKit/outputs'\n",
    "for model_name in ['Phi-3.5-Vision', 'llava_hf_v1.5_7b', 'Idefics3-8B-Llama3', 'InternVL2-1B']:\n",
    "    dataset_name = 'RealWorldQA'\n",
    "    file_paths = glob.glob(f'{base_dir}/{model_name}/{model_name}_{dataset_name}_*openai_result.xlsx')\n",
    "    group_patchs = {}\n",
    "    for i in file_paths:\n",
    "        group_patch = get_group_patch(os.path.basename(i))\n",
    "        group_patchs[group_patch] = pd.read_excel(i)\n",
    "\n",
    "    top_scores.loc[:, 'hit'] = top_scores[['index', 'group_patch']].apply(lambda x: group_patchs[x['group_patch']].loc[x['index'], 'hit'], axis=1)\n",
    "\n",
    "    print(f\"model_name: {model_name},{top_scores.loc[:, 'hit'].mean()}\")"
   ]
  },
  {
   "cell_type": "code",
   "execution_count": 2,
   "metadata": {},
   "outputs": [
    {
     "name": "stdout",
     "output_type": "stream",
     "text": [
      "model_name: Phi-3.5-Vision,0.530718954248366\n",
      "model_name: llava_hf_v1.5_7b,0.5241830065359477\n",
      "model_name: Idefics3-8B-Llama3,0.6104575163398693\n",
      "model_name: InternVL2-1B,0.49411764705882355\n"
     ]
    }
   ],
   "source": [
    "import os\n",
    "import re\n",
    "import glob\n",
    "import pandas as pd\n",
    "\n",
    "def get_group(filename):\n",
    "    pattern = r'grid_\\d+x\\d+'\n",
    "    match = re.search(pattern, filename)\n",
    "    if match:\n",
    "        extracted = match.group()\n",
    "    else:\n",
    "        extracted = 'orig'\n",
    "    return extracted\n",
    "\n",
    "def get_patch(filename):\n",
    "    pattern = r'row\\d+_col\\d+'\n",
    "    match = re.search(pattern, filename)\n",
    "    if match:\n",
    "        extracted = match.group()\n",
    "    else:\n",
    "        extracted = 'orig'\n",
    "    return extracted\n",
    "\n",
    "def get_group_patch(filename):\n",
    "    return f'{get_group(filename)}_{get_patch(filename)}'\n",
    "\n",
    "df = pd.read_csv('/home/srikapan/workspace/research/multiblock/VLMEvalKit/res_alt.csv')\n",
    "top_scores = df.loc[df.groupby('index')['scores'].idxmax()].reset_index()\n",
    "top_scores.loc[:, 'group_patch'] = top_scores.file.apply(lambda x: get_group_patch(os.path.basename(x)))\n",
    "\n",
    "base_dir = '/home/srikapan/workspace/research/multiblock/VLMEvalKit/outputs'\n",
    "for model_name in ['Phi-3.5-Vision', 'llava_hf_v1.5_7b', 'Idefics3-8B-Llama3', 'InternVL2-1B']:\n",
    "    dataset_name = 'RealWorldQA'\n",
    "    file_paths = glob.glob(f'{base_dir}/{model_name}/{model_name}_{dataset_name}_*openai_result.xlsx')\n",
    "    group_patchs = {}\n",
    "    for i in file_paths:\n",
    "        group_patch = get_group_patch(os.path.basename(i))\n",
    "        group_patchs[group_patch] = pd.read_excel(i)\n",
    "\n",
    "    top_scores.loc[:, 'hit'] = top_scores[['index', 'group_patch']].apply(lambda x: group_patchs[x['group_patch']].loc[x['index'], 'hit'], axis=1)\n",
    "\n",
    "    print(f\"model_name: {model_name},{top_scores.loc[:, 'hit'].mean()}\")"
   ]
  }
 ],
 "metadata": {
  "kernelspec": {
   "display_name": "eval",
   "language": "python",
   "name": "python3"
  },
  "language_info": {
   "codemirror_mode": {
    "name": "ipython",
    "version": 3
   },
   "file_extension": ".py",
   "mimetype": "text/x-python",
   "name": "python",
   "nbconvert_exporter": "python",
   "pygments_lexer": "ipython3",
   "version": "3.12.7"
  }
 },
 "nbformat": 4,
 "nbformat_minor": 2
}
