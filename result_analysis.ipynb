{
 "cells": [
  {
   "cell_type": "code",
   "execution_count": null,
   "metadata": {},
   "outputs": [],
   "source": [
    "import os\n",
    "import re\n",
    "import glob\n",
    "import pandas as pd\n",
    "import itertools\n",
    "\n",
    "def get_group(filename):\n",
    "    pattern = r'grid_\\d+x\\d+'\n",
    "    match = re.search(pattern, filename)\n",
    "    if match:\n",
    "        extracted = match.group()\n",
    "    else:\n",
    "        extracted = 'orig'\n",
    "    return extracted\n",
    "\n",
    "def get_patch(filename):\n",
    "    pattern = r'row\\d+_col\\d+'\n",
    "    match = re.search(pattern, filename)\n",
    "    if match:\n",
    "        extracted = match.group()\n",
    "    else:\n",
    "        extracted = 'orig'\n",
    "    return extracted\n",
    "\n",
    "\n",
    "base_dir = '/home/srikapan/workspace/research/multiblock/VLMEvalKit/outputs'\n",
    "model_name = 'Phi-3.5-Vision' # llava_hf_v1.5_7b, InternVL2-1B, Idefics3-8B-Llama3, Phi-3.5-Vision\n",
    "dataset_name = 'RealWorldQA'\n",
    "file_paths = glob.glob(f'{base_dir}/{model_name}/{model_name}_{dataset_name}_*openai_result.xlsx')\n",
    "groups = {}\n",
    "for i in file_paths:\n",
    "    group = get_group(os.path.basename(i))\n",
    "    if group not in groups:\n",
    "        groups[group] = [os.path.basename(i)]\n",
    "    else:\n",
    "        groups[group].append(os.path.basename(i))\n",
    "\n",
    "all_combinations = []\n",
    "for r in range(1, len(groups.keys()) + 1):\n",
    "    all_combinations.extend(itertools.combinations(groups.keys(), r))\n",
    "\n",
    "final_dict = {}\n",
    "for gp_element in all_combinations:\n",
    "    all_excel = {}\n",
    "    for indi_element in gp_element:\n",
    "        for i in groups[indi_element]:\n",
    "            df = pd.read_excel(f'{base_dir}/{model_name}/{i}')\n",
    "            hit = df.hit.tolist()\n",
    "            all_excel[os.path.basename(i).replace('.xlsx', '')] = hit\n",
    "    result = [int(any(values)) for values in zip(*all_excel.values())]\n",
    "    result = sum(result)/len(result)\n",
    "    final_dict['-'.join(gp_element)] = result\n",
    "df = pd.DataFrame(list(final_dict.items()), columns=['Configuration', 'Value'])\n",
    "df.to_csv(f'{base_dir}/{model_name}_sumary.csv', index=False)"
   ]
  }
 ],
 "metadata": {
  "kernelspec": {
   "display_name": "VLMEvalKit",
   "language": "python",
   "name": "python3"
  },
  "language_info": {
   "codemirror_mode": {
    "name": "ipython",
    "version": 3
   },
   "file_extension": ".py",
   "mimetype": "text/x-python",
   "name": "python",
   "nbconvert_exporter": "python",
   "pygments_lexer": "ipython3",
   "version": "3.10.14"
  }
 },
 "nbformat": 4,
 "nbformat_minor": 2
}
