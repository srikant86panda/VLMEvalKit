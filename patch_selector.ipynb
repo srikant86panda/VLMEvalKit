{
 "cells": [
  {
   "cell_type": "code",
   "execution_count": null,
   "metadata": {},
   "outputs": [],
   "source": [
    "import os\n",
    "import sys\n",
    "os.environ['no_proxy']='localhost'\n",
    "os.environ['http_proxy']='http://10.8.0.169:3128'\n",
    "os.environ['https_proxy']='http://10.8.0.169:3128'\n",
    "\n",
    "import re\n",
    "import io\n",
    "import glob\n",
    "import base64\n",
    "import numpy as np\n",
    "import pandas as pd\n",
    "from PIL import Image\n",
    "from tqdm.notebook import tqdm\n",
    "import torch\n",
    "from torch.utils.data import Dataset, DataLoader\n",
    "\n",
    "from torchvision.transforms import Compose, Resize, ToTensor, Normalize\n",
    "\n",
    "from transformers import AutoProcessor, AutoModel\n",
    "\n",
    "\n",
    "def get_group(filename):\n",
    "    pattern = r'grid_\\d+x\\d+'\n",
    "    match = re.search(pattern, filename)\n",
    "    if match:\n",
    "        extracted = match.group()\n",
    "    else:\n",
    "        extracted = 'orig'\n",
    "    return extracted\n",
    "\n",
    "def get_id(filename):\n",
    "    pattern = r'row\\d_col\\d'\n",
    "    match = re.search(pattern, filename)\n",
    "    if match:\n",
    "        extracted = match.group()\n",
    "    else:\n",
    "        extracted = 'orig'\n",
    "    return extracted\n",
    "\n",
    "processor = AutoProcessor.from_pretrained(\"google/siglip-so400m-patch14-384\")\n",
    "model = AutoModel.from_pretrained(\"google/siglip-so400m-patch14-384\")\n",
    "device = torch.device(\"cuda\" if torch.cuda.is_available() else \"cpu\")\n",
    "model = model.to(device)\n",
    "\n",
    "def decode_base64_to_image(base64_string, target_size=-1):\n",
    "    image_data = base64.b64decode(base64_string)\n",
    "    image = Image.open(io.BytesIO(image_data))\n",
    "    if image.mode in ('RGBA', 'P'):\n",
    "        image = image.convert('RGB')\n",
    "    if target_size > 0:\n",
    "        image.thumbnail((target_size, target_size))\n",
    "    return image\n",
    "\n",
    "class MultiLabelDataset(Dataset):\n",
    "  def __init__(self, file_pattern, processor):\n",
    "    tsv_list = glob.glob(file_pattern)\n",
    "    df_list = []\n",
    "    for i in tsv_list:\n",
    "        temp = pd.read_csv(i, sep='\\t')\n",
    "        temp.loc[:, 'file'] = i\n",
    "        temp.loc[:, 'group'] = get_group(os.path.basename(i).replace('.tsv', ''))\n",
    "        temp.loc[:, 'group_patch'] = get_id(os.path.basename(i).replace('.tsv', ''))\n",
    "        temp.loc[:, 'group_patch'] = temp[['group', 'group_patch']].apply(lambda x: f\"{x['group']}_{x['group_patch']}\", axis=1)\n",
    "        df_list.append(temp)\n",
    "    self.df = pd.concat(df_list, axis=0, ignore_index=True)\n",
    "\n",
    "    size = processor.image_processor.size[\"height\"]\n",
    "    mean = processor.image_processor.image_mean\n",
    "    std = processor.image_processor.image_std\n",
    "    self.transform = Compose([\n",
    "        Resize((size, size)),\n",
    "        ToTensor(),\n",
    "    ])\n",
    "\n",
    "  def __getitem__(self, idx):\n",
    "    image = decode_base64_to_image(self.df.loc[idx,'image'])\n",
    "    texts = self.df.loc[idx,'question']\n",
    "    inputs = processor(text=texts, images=image, padding=\"max_length\", return_tensors=\"pt\")\n",
    "    return {key: val.squeeze(0) for key, val in inputs.items()}\n",
    "\n",
    "  def __len__(self):\n",
    "    return len(self.df)\n",
    "\n",
    "file_pattern = '/home/srikapan/LMUData/RealWorldQA*.tsv'\n",
    "train_dataset = MultiLabelDataset(file_pattern, processor)\n",
    "\n",
    "batch_size = 32\n",
    "dataloader = DataLoader(train_dataset, batch_size=batch_size, shuffle=False, num_workers=16)\n",
    "\n",
    "print(f'start inferencing')\n",
    "scores = []\n",
    "with torch.no_grad():\n",
    "    for idx, batch in enumerate(tqdm(dataloader, desc=\"Processing Batches\", unit=\"batch\")):\n",
    "        batch = {key: val.to(device) for key, val in batch.items()}\n",
    "        outputs = model(**batch)\n",
    "        logits_per_image = outputs.logits_per_image\n",
    "        probs = torch.sigmoid(logits_per_image).cpu()\n",
    "        scores.extend(torch.diag(probs).numpy().tolist())\n",
    "        # if idx%100==0:\n",
    "        #     print(f'idx: {idx}')\n",
    "train_dataset.df.loc[:,'scores'] = scores\n",
    "train_dataset.df.to_csv('res_siglip.csv', index=False)"
   ]
  },
  {
   "cell_type": "code",
   "execution_count": null,
   "metadata": {},
   "outputs": [],
   "source": [
    "import os\n",
    "import sys\n",
    "os.environ['no_proxy']='localhost'\n",
    "os.environ['http_proxy']='http://10.8.0.169:3128'\n",
    "os.environ['https_proxy']='http://10.8.0.169:3128'\n",
    "\n",
    "import re\n",
    "import io\n",
    "import glob\n",
    "import base64\n",
    "import numpy as np\n",
    "import pandas as pd\n",
    "from PIL import Image\n",
    "from tqdm.notebook import tqdm\n",
    "import torch\n",
    "from torch.utils.data import Dataset, DataLoader\n",
    "\n",
    "from torchvision.transforms import Compose, Resize, ToTensor, Normalize\n",
    "\n",
    "from transformers import CLIPProcessor, CLIPModel\n",
    "\n",
    "\n",
    "def get_group(filename):\n",
    "    pattern = r'grid_\\d+x\\d+'\n",
    "    match = re.search(pattern, filename)\n",
    "    if match:\n",
    "        extracted = match.group()\n",
    "    else:\n",
    "        extracted = 'orig'\n",
    "    return extracted\n",
    "\n",
    "def get_id(filename):\n",
    "    pattern = r'row\\d_col\\d'\n",
    "    match = re.search(pattern, filename)\n",
    "    if match:\n",
    "        extracted = match.group()\n",
    "    else:\n",
    "        extracted = 'orig'\n",
    "    return extracted\n",
    "\n",
    "processor = CLIPProcessor.from_pretrained(\"openai/clip-vit-base-patch32\")\n",
    "device = torch.device(\"cuda\" if torch.cuda.is_available() else \"cpu\")\n",
    "model = CLIPModel.from_pretrained(\"openai/clip-vit-base-patch32\", device_map=device)\n",
    "#     attn_implementation=\"flash_attention_2\",\n",
    "#     )\n",
    "\n",
    "def decode_base64_to_image(base64_string, target_size=-1):\n",
    "    image_data = base64.b64decode(base64_string)\n",
    "    image = Image.open(io.BytesIO(image_data))\n",
    "    if image.mode in ('RGBA', 'P'):\n",
    "        image = image.convert('RGB')\n",
    "    if target_size > 0:\n",
    "        image.thumbnail((target_size, target_size))\n",
    "    return image\n",
    "\n",
    "class MultiLabelDataset(Dataset):\n",
    "  def __init__(self, file_pattern, processor):\n",
    "    tsv_list = glob.glob(file_pattern)\n",
    "    df_list = []\n",
    "    for i in tsv_list:\n",
    "        temp = pd.read_csv(i, sep='\\t')\n",
    "        temp.loc[:, 'file'] = i\n",
    "        temp.loc[:, 'group'] = get_group(os.path.basename(i).replace('.tsv', ''))\n",
    "        temp.loc[:, 'group_patch'] = get_id(os.path.basename(i).replace('.tsv', ''))\n",
    "        temp.loc[:, 'group_patch'] = temp[['group', 'group_patch']].apply(lambda x: f\"{x['group']}_{x['group_patch']}\", axis=1)\n",
    "        df_list.append(temp)\n",
    "    self.df = pd.concat(df_list, axis=0, ignore_index=True)\n",
    "\n",
    "    size = processor.image_processor.crop_size[\"width\"]\n",
    "    mean = processor.image_processor.image_mean\n",
    "    std = processor.image_processor.image_std\n",
    "    self.transform = Compose([\n",
    "        Resize((size, size)),\n",
    "        ToTensor(),\n",
    "    ])\n",
    "\n",
    "  def __getitem__(self, idx):\n",
    "    image = decode_base64_to_image(self.df.loc[idx,'image'])\n",
    "    texts = self.df.loc[idx,'question']\n",
    "    inputs = processor(text=texts, images=image, padding=\"max_length\", return_tensors=\"pt\")\n",
    "    return {key: val.squeeze(0) for key, val in inputs.items()}\n",
    "\n",
    "  def __len__(self):\n",
    "    return len(self.df)\n",
    "\n",
    "file_pattern = '/home/srikapan/LMUData/RealWorldQA*.tsv'\n",
    "train_dataset = MultiLabelDataset(file_pattern, processor)\n",
    "\n",
    "batch_size = 32\n",
    "dataloader = DataLoader(train_dataset, batch_size=batch_size, shuffle=False, num_workers=16)\n",
    "\n",
    "print(f'start inferencing')\n",
    "scores = []\n",
    "with torch.no_grad():\n",
    "    for idx, batch in enumerate(tqdm(dataloader, desc=\"Processing Batches\", unit=\"batch\")):\n",
    "        batch = {key: val.to(device) for key, val in batch.items()}\n",
    "        outputs = model(**batch)\n",
    "        logits_per_image = outputs.logits_per_image\n",
    "        probs = torch.sigmoid(logits_per_image).cpu()\n",
    "        scores.extend(torch.diag(probs).numpy().tolist())\n",
    "        # if idx%100==0:\n",
    "        #     print(f'idx: {idx}')\n",
    "train_dataset.df.loc[:,'scores'] = scores\n",
    "train_dataset.df.to_csv('res_clip.csv', index=False)"
   ]
  },
  {
   "cell_type": "code",
   "execution_count": 2,
   "metadata": {},
   "outputs": [
    {
     "data": {
      "application/vnd.jupyter.widget-view+json": {
       "model_id": "8c9478e018774dfdadf70a56ea5c3d12",
       "version_major": 2,
       "version_minor": 0
      },
      "text/plain": [
       "preprocessor_config.json:   0%|          | 0.00/559 [00:00<?, ?B/s]"
      ]
     },
     "metadata": {},
     "output_type": "display_data"
    },
    {
     "data": {
      "application/vnd.jupyter.widget-view+json": {
       "model_id": "dee741b32fa24e009d4495aa94af1133",
       "version_major": 2,
       "version_minor": 0
      },
      "text/plain": [
       "tokenizer_config.json:   0%|          | 0.00/513 [00:00<?, ?B/s]"
      ]
     },
     "metadata": {},
     "output_type": "display_data"
    },
    {
     "data": {
      "application/vnd.jupyter.widget-view+json": {
       "model_id": "a70f3c5420d0423cbdbd7d6824f91cca",
       "version_major": 2,
       "version_minor": 0
      },
      "text/plain": [
       "sentencepiece.bpe.model:   0%|          | 0.00/5.07M [00:00<?, ?B/s]"
      ]
     },
     "metadata": {},
     "output_type": "display_data"
    },
    {
     "data": {
      "application/vnd.jupyter.widget-view+json": {
       "model_id": "6db215af72204fcd8cec1f160e017ac9",
       "version_major": 2,
       "version_minor": 0
      },
      "text/plain": [
       "tokenizer.json:   0%|          | 0.00/17.1M [00:00<?, ?B/s]"
      ]
     },
     "metadata": {},
     "output_type": "display_data"
    },
    {
     "data": {
      "application/vnd.jupyter.widget-view+json": {
       "model_id": "95bed83dd16f4abc84e569614ed81ce8",
       "version_major": 2,
       "version_minor": 0
      },
      "text/plain": [
       "special_tokens_map.json:   0%|          | 0.00/280 [00:00<?, ?B/s]"
      ]
     },
     "metadata": {},
     "output_type": "display_data"
    },
    {
     "data": {
      "application/vnd.jupyter.widget-view+json": {
       "model_id": "2cabaea3b2d748d8acf49f109c75d3dd",
       "version_major": 2,
       "version_minor": 0
      },
      "text/plain": [
       "config.json:   0%|          | 0.00/5.13k [00:00<?, ?B/s]"
      ]
     },
     "metadata": {},
     "output_type": "display_data"
    },
    {
     "data": {
      "application/vnd.jupyter.widget-view+json": {
       "model_id": "479407160d154a129ddadae79291abba",
       "version_major": 2,
       "version_minor": 0
      },
      "text/plain": [
       "pytorch_model.bin:   0%|          | 0.00/3.46G [00:00<?, ?B/s]"
      ]
     },
     "metadata": {},
     "output_type": "display_data"
    },
    {
     "data": {
      "application/vnd.jupyter.widget-view+json": {
       "model_id": "142e3f4f1798457889a68538b0d04498",
       "version_major": 2,
       "version_minor": 0
      },
      "text/plain": [
       "model.safetensors:   0%|          | 0.00/3.46G [00:00<?, ?B/s]"
      ]
     },
     "metadata": {},
     "output_type": "display_data"
    },
    {
     "name": "stdout",
     "output_type": "stream",
     "text": [
      "start inferencing\n"
     ]
    },
    {
     "name": "stderr",
     "output_type": "stream",
     "text": [
      "/home/srikapan/anaconda3/envs/eval/lib/python3.12/site-packages/torch/utils/data/dataloader.py:558: UserWarning: This DataLoader will create 16 worker processes in total. Our suggested max number of worker in current system is 8, which is smaller than what this DataLoader is going to create. Please be aware that excessive worker creation might get DataLoader running slow or even freeze, lower the worker number to avoid potential slowness/freeze if necessary.\n",
      "  warnings.warn(_create_warning_msg(\n"
     ]
    },
    {
     "data": {
      "application/vnd.jupyter.widget-view+json": {
       "model_id": "5da1bbe5fd3c44809452a75823777a0f",
       "version_major": 2,
       "version_minor": 0
      },
      "text/plain": [
       "Processing Batches:   0%|          | 0/431 [00:00<?, ?batch/s]"
      ]
     },
     "metadata": {},
     "output_type": "display_data"
    }
   ],
   "source": [
    "import os\n",
    "import sys\n",
    "os.environ['no_proxy']='localhost'\n",
    "os.environ['http_proxy']='http://10.8.0.169:3128'\n",
    "os.environ['https_proxy']='http://10.8.0.169:3128'\n",
    "\n",
    "import re\n",
    "import io\n",
    "import glob\n",
    "import base64\n",
    "import numpy as np\n",
    "import pandas as pd\n",
    "from PIL import Image\n",
    "from tqdm.notebook import tqdm\n",
    "import torch\n",
    "from torch.utils.data import Dataset, DataLoader\n",
    "\n",
    "from torchvision.transforms import Compose, Resize, ToTensor, Normalize\n",
    "\n",
    "from transformers import AltCLIPModel, AltCLIPProcessor\n",
    "\n",
    "\n",
    "def get_group(filename):\n",
    "    pattern = r'grid_\\d+x\\d+'\n",
    "    match = re.search(pattern, filename)\n",
    "    if match:\n",
    "        extracted = match.group()\n",
    "    else:\n",
    "        extracted = 'orig'\n",
    "    return extracted\n",
    "\n",
    "def get_id(filename):\n",
    "    pattern = r'row\\d_col\\d'\n",
    "    match = re.search(pattern, filename)\n",
    "    if match:\n",
    "        extracted = match.group()\n",
    "    else:\n",
    "        extracted = 'orig'\n",
    "    return extracted\n",
    "\n",
    "processor = AltCLIPProcessor.from_pretrained(\"BAAI/AltCLIP\")\n",
    "\n",
    "device = torch.device(\"cuda\" if torch.cuda.is_available() else \"cpu\")\n",
    "model = AltCLIPModel.from_pretrained(\"BAAI/AltCLIP\", device_map=device)\n",
    "\n",
    "def decode_base64_to_image(base64_string, target_size=-1):\n",
    "    image_data = base64.b64decode(base64_string)\n",
    "    image = Image.open(io.BytesIO(image_data))\n",
    "    if image.mode in ('RGBA', 'P'):\n",
    "        image = image.convert('RGB')\n",
    "    if target_size > 0:\n",
    "        image.thumbnail((target_size, target_size))\n",
    "    return image\n",
    "\n",
    "class MultiLabelDataset(Dataset):\n",
    "  def __init__(self, file_pattern, processor):\n",
    "    tsv_list = glob.glob(file_pattern)\n",
    "    df_list = []\n",
    "    for i in tsv_list:\n",
    "        temp = pd.read_csv(i, sep='\\t')\n",
    "        temp.loc[:, 'file'] = i\n",
    "        temp.loc[:, 'group'] = get_group(os.path.basename(i).replace('.tsv', ''))\n",
    "        temp.loc[:, 'group_patch'] = get_id(os.path.basename(i).replace('.tsv', ''))\n",
    "        temp.loc[:, 'group_patch'] = temp[['group', 'group_patch']].apply(lambda x: f\"{x['group']}_{x['group_patch']}\", axis=1)\n",
    "        df_list.append(temp)\n",
    "    self.df = pd.concat(df_list, axis=0, ignore_index=True)\n",
    "\n",
    "    size = processor.image_processor.crop_size[\"width\"]\n",
    "    mean = processor.image_processor.image_mean\n",
    "    std = processor.image_processor.image_std\n",
    "    self.transform = Compose([\n",
    "        Resize((size, size)),\n",
    "        ToTensor(),\n",
    "    ])\n",
    "\n",
    "  def __getitem__(self, idx):\n",
    "    image = decode_base64_to_image(self.df.loc[idx,'image'])\n",
    "    texts = self.df.loc[idx,'question']\n",
    "    inputs = processor(text=texts, images=image, padding=\"max_length\", return_tensors=\"pt\")\n",
    "    return {key: val.squeeze(0) for key, val in inputs.items()}\n",
    "\n",
    "  def __len__(self):\n",
    "    return len(self.df)\n",
    "\n",
    "file_pattern = '/home/srikapan/LMUData/RealWorldQA*.tsv'\n",
    "train_dataset = MultiLabelDataset(file_pattern, processor)\n",
    "\n",
    "batch_size = 32\n",
    "dataloader = DataLoader(train_dataset, batch_size=batch_size, shuffle=False, num_workers=16)\n",
    "\n",
    "print(f'start inferencing')\n",
    "scores = []\n",
    "with torch.no_grad():\n",
    "    for idx, batch in enumerate(tqdm(dataloader, desc=\"Processing Batches\", unit=\"batch\")):\n",
    "        batch = {key: val.to(device) for key, val in batch.items()}\n",
    "        outputs = model(**batch)\n",
    "        logits_per_image = outputs.logits_per_image\n",
    "        probs = torch.sigmoid(logits_per_image).cpu()\n",
    "        scores.extend(torch.diag(probs).numpy().tolist())\n",
    "        # if idx%100==0:\n",
    "        #     print(f'idx: {idx}')\n",
    "train_dataset.df.loc[:,'scores'] = scores\n",
    "train_dataset.df.to_csv('res_alt.csv', index=False)"
   ]
  },
  {
   "cell_type": "code",
   "execution_count": 1,
   "metadata": {},
   "outputs": [
    {
     "data": {
      "application/vnd.jupyter.widget-view+json": {
       "model_id": "00ae4c80838044b4a24de01a1026ad61",
       "version_major": 2,
       "version_minor": 0
      },
      "text/plain": [
       "preprocessor_config.json:   0%|          | 0.00/508 [00:00<?, ?B/s]"
      ]
     },
     "metadata": {},
     "output_type": "display_data"
    },
    {
     "data": {
      "application/vnd.jupyter.widget-view+json": {
       "model_id": "692355b53f284b9e92f70c54d696dbec",
       "version_major": 2,
       "version_minor": 0
      },
      "text/plain": [
       "tokenizer_config.json:   0%|          | 0.00/399 [00:00<?, ?B/s]"
      ]
     },
     "metadata": {},
     "output_type": "display_data"
    },
    {
     "data": {
      "application/vnd.jupyter.widget-view+json": {
       "model_id": "1c7b0079b13246f38ea619930bb43741",
       "version_major": 2,
       "version_minor": 0
      },
      "text/plain": [
       "vocab.txt:   0%|          | 0.00/232k [00:00<?, ?B/s]"
      ]
     },
     "metadata": {},
     "output_type": "display_data"
    },
    {
     "data": {
      "application/vnd.jupyter.widget-view+json": {
       "model_id": "847ff32b5ffc40029b9bb83929a8a04f",
       "version_major": 2,
       "version_minor": 0
      },
      "text/plain": [
       "special_tokens_map.json:   0%|          | 0.00/125 [00:00<?, ?B/s]"
      ]
     },
     "metadata": {},
     "output_type": "display_data"
    },
    {
     "data": {
      "application/vnd.jupyter.widget-view+json": {
       "model_id": "4bc01db2ed8b4e78ba0e4150173a8789",
       "version_major": 2,
       "version_minor": 0
      },
      "text/plain": [
       "config.json:   0%|          | 0.00/5.25k [00:00<?, ?B/s]"
      ]
     },
     "metadata": {},
     "output_type": "display_data"
    },
    {
     "data": {
      "application/vnd.jupyter.widget-view+json": {
       "model_id": "bba63a6e84c44921b46170e2fed3a4c6",
       "version_major": 2,
       "version_minor": 0
      },
      "text/plain": [
       "pytorch_model.bin:   0%|          | 0.00/690M [00:00<?, ?B/s]"
      ]
     },
     "metadata": {},
     "output_type": "display_data"
    },
    {
     "data": {
      "application/vnd.jupyter.widget-view+json": {
       "model_id": "6809f43831364ca88bc85bdf5968a95e",
       "version_major": 2,
       "version_minor": 0
      },
      "text/plain": [
       "model.safetensors:   0%|          | 0.00/690M [00:00<?, ?B/s]"
      ]
     },
     "metadata": {},
     "output_type": "display_data"
    },
    {
     "name": "stdout",
     "output_type": "stream",
     "text": [
      "start inferencing\n"
     ]
    },
    {
     "name": "stderr",
     "output_type": "stream",
     "text": [
      "/home/srikapan/anaconda3/envs/eval/lib/python3.12/site-packages/torch/utils/data/dataloader.py:558: UserWarning: This DataLoader will create 16 worker processes in total. Our suggested max number of worker in current system is 8, which is smaller than what this DataLoader is going to create. Please be aware that excessive worker creation might get DataLoader running slow or even freeze, lower the worker number to avoid potential slowness/freeze if necessary.\n",
      "  warnings.warn(_create_warning_msg(\n"
     ]
    },
    {
     "data": {
      "application/vnd.jupyter.widget-view+json": {
       "model_id": "0e4ffd304cfb4478a1f09eb963574dee",
       "version_major": 2,
       "version_minor": 0
      },
      "text/plain": [
       "Processing Batches:   0%|          | 0/431 [00:00<?, ?batch/s]"
      ]
     },
     "metadata": {},
     "output_type": "display_data"
    }
   ],
   "source": [
    "import os\n",
    "import sys\n",
    "os.environ['no_proxy']='localhost'\n",
    "os.environ['http_proxy']='http://10.8.0.169:3128'\n",
    "os.environ['https_proxy']='http://10.8.0.169:3128'\n",
    "\n",
    "import re\n",
    "import io\n",
    "import glob\n",
    "import base64\n",
    "import numpy as np\n",
    "import pandas as pd\n",
    "from PIL import Image\n",
    "from tqdm.notebook import tqdm\n",
    "import torch\n",
    "from torch.utils.data import Dataset, DataLoader\n",
    "\n",
    "from torchvision.transforms import Compose, Resize, ToTensor, Normalize\n",
    "\n",
    "from transformers import AlignProcessor, AlignModel\n",
    "\n",
    "\n",
    "def get_group(filename):\n",
    "    pattern = r'grid_\\d+x\\d+'\n",
    "    match = re.search(pattern, filename)\n",
    "    if match:\n",
    "        extracted = match.group()\n",
    "    else:\n",
    "        extracted = 'orig'\n",
    "    return extracted\n",
    "\n",
    "def get_id(filename):\n",
    "    pattern = r'row\\d_col\\d'\n",
    "    match = re.search(pattern, filename)\n",
    "    if match:\n",
    "        extracted = match.group()\n",
    "    else:\n",
    "        extracted = 'orig'\n",
    "    return extracted\n",
    "\n",
    "processor = AlignProcessor.from_pretrained(\"kakaobrain/align-base\")\n",
    "device = torch.device(\"cuda\" if torch.cuda.is_available() else \"cpu\")\n",
    "model = AlignModel.from_pretrained(\"kakaobrain/align-base\", device_map=device)\n",
    "\n",
    "\n",
    "def decode_base64_to_image(base64_string, target_size=-1):\n",
    "    image_data = base64.b64decode(base64_string)\n",
    "    image = Image.open(io.BytesIO(image_data))\n",
    "    if image.mode in ('RGBA', 'P'):\n",
    "        image = image.convert('RGB')\n",
    "    if target_size > 0:\n",
    "        image.thumbnail((target_size, target_size))\n",
    "    return image\n",
    "\n",
    "class MultiLabelDataset(Dataset):\n",
    "  def __init__(self, file_pattern, processor):\n",
    "    tsv_list = glob.glob(file_pattern)\n",
    "    df_list = []\n",
    "    for i in tsv_list:\n",
    "        temp = pd.read_csv(i, sep='\\t')\n",
    "        temp.loc[:, 'file'] = i\n",
    "        temp.loc[:, 'group'] = get_group(os.path.basename(i).replace('.tsv', ''))\n",
    "        temp.loc[:, 'group_patch'] = get_id(os.path.basename(i).replace('.tsv', ''))\n",
    "        temp.loc[:, 'group_patch'] = temp[['group', 'group_patch']].apply(lambda x: f\"{x['group']}_{x['group_patch']}\", axis=1)\n",
    "        df_list.append(temp)\n",
    "    self.df = pd.concat(df_list, axis=0, ignore_index=True)\n",
    "\n",
    "    size = processor.image_processor.crop_size[\"width\"]\n",
    "    mean = processor.image_processor.image_mean\n",
    "    std = processor.image_processor.image_std\n",
    "    self.transform = Compose([\n",
    "        Resize((size, size)),\n",
    "        ToTensor(),\n",
    "    ])\n",
    "\n",
    "  def __getitem__(self, idx):\n",
    "    image = decode_base64_to_image(self.df.loc[idx,'image'])\n",
    "    texts = self.df.loc[idx,'question']\n",
    "    inputs = processor(text=texts, images=image, padding=\"max_length\", return_tensors=\"pt\")\n",
    "    return {key: val.squeeze(0) for key, val in inputs.items()}\n",
    "\n",
    "  def __len__(self):\n",
    "    return len(self.df)\n",
    "\n",
    "file_pattern = '/home/srikapan/LMUData/RealWorldQA*.tsv'\n",
    "train_dataset = MultiLabelDataset(file_pattern, processor)\n",
    "\n",
    "batch_size = 32\n",
    "dataloader = DataLoader(train_dataset, batch_size=batch_size, shuffle=False, num_workers=16)\n",
    "\n",
    "print(f'start inferencing')\n",
    "scores = []\n",
    "with torch.no_grad():\n",
    "    for idx, batch in enumerate(tqdm(dataloader, desc=\"Processing Batches\", unit=\"batch\")):\n",
    "        batch = {key: val.to(device) for key, val in batch.items()}\n",
    "        outputs = model(**batch)\n",
    "        logits_per_image = outputs.logits_per_image\n",
    "        probs = torch.sigmoid(logits_per_image).cpu()\n",
    "        scores.extend(torch.diag(probs).numpy().tolist())\n",
    "        # if idx%100==0:\n",
    "        #     print(f'idx: {idx}')\n",
    "train_dataset.df.loc[:,'scores'] = scores\n",
    "train_dataset.df.to_csv('res_align.csv', index=False)"
   ]
  }
 ],
 "metadata": {
  "kernelspec": {
   "display_name": "eval",
   "language": "python",
   "name": "python3"
  },
  "language_info": {
   "codemirror_mode": {
    "name": "ipython",
    "version": 3
   },
   "file_extension": ".py",
   "mimetype": "text/x-python",
   "name": "python",
   "nbconvert_exporter": "python",
   "pygments_lexer": "ipython3",
   "version": "3.12.7"
  }
 },
 "nbformat": 4,
 "nbformat_minor": 2
}
